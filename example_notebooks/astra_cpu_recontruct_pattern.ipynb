{
 "cells": [
  {
   "cell_type": "code",
   "execution_count": null,
   "metadata": {},
   "outputs": [],
   "source": [
    "pattern2 = Pattern('cpu_reconstruction_pattern2')\n",
    "pattern2.add_single_input('phantom_input', 'data/.*\\\\.mat')\n",
    "pattern2.add_recipe('astra_cpu_reconstruction_cgls')"
   ]
  },
  {
   "cell_type": "code",
   "execution_count": null,
   "metadata": {},
   "outputs": [],
   "source": [
    "pattern3 = Pattern('cpu_reconstruction_pattern3')\n",
    "pattern3.add_single_input('phantom_input', 'data/.*\\\\.mat')\n",
    "pattern3.add_recipe('astra_cpu_reconstruction_art')"
   ]
  },
  {
   "cell_type": "code",
   "execution_count": null,
   "metadata": {},
   "outputs": [],
   "source": [
    "pattern1 = Pattern('cpu_reconstruction_pattern1')\n",
    "pattern1.add_single_input('phantom_input', 'data/.*\\\\.mat')\n",
    "pattern1.add_recipe('astra_cpu_reconstruction_sirt')"
   ]
  }
 ],
 "metadata": {
  "kernelspec": {
   "display_name": "Python 3",
   "language": "python",
   "name": "python3"
  },
  "language_info": {
   "codemirror_mode": {
    "name": "ipython",
    "version": 3
   },
   "file_extension": ".py",
   "mimetype": "text/x-python",
   "name": "python",
   "nbconvert_exporter": "python",
   "pygments_lexer": "ipython3",
   "version": "3.7.1"
  }
 },
 "nbformat": 4,
 "nbformat_minor": 2
}
