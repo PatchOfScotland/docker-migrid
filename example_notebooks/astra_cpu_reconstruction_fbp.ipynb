{
 "cells": [
  {
   "cell_type": "code",
   "execution_count": null,
   "metadata": {
    "tags": [
     "parameters"
    ]
   },
   "outputs": [],
   "source": [
    "phantom_input = 'phantom.mat'"
   ]
  },
  {
   "cell_type": "code",
   "execution_count": null,
   "metadata": {},
   "outputs": [],
   "source": [
    "# -----------------------------------------------------------------------\n",
    "# Copyright: 2010-2018, imec Vision Lab, University of Antwerp\n",
    "#            2013-2018, CWI, Amsterdam\n",
    "#\n",
    "# Contact: astra@astra-toolbox.com\n",
    "# Website: http://www.astra-toolbox.com/\n",
    "#\n",
    "# This file is part of the ASTRA Toolbox.\n",
    "#\n",
    "#\n",
    "# The ASTRA Toolbox is free software: you can redistribute it and/or modify\n",
    "# it under the terms of the GNU General Public License as published by\n",
    "# the Free Software Foundation, either version 3 of the License, or\n",
    "# (at your option) any later version.w\n",
    "#\n",
    "# The ASTRA Toolbox is distributed in the hope that it will be useful,\n",
    "# but WITHOUT ANY WARRANTY; without even the implied warranty of\n",
    "# MERCHANTABILITY or FITNESS FOR A PARTICULAR PURPOSE. See the\n",
    "# GNU General Public License for more details.\n",
    "#\n",
    "# You should have received a copy of the GNU General Public License\n",
    "# along with the ASTRA Toolbox. If not, see <http://www.gnu.org/licenses/>.\n",
    "#\n",
    "# -----------------------------------------------------------------------\n",
    "\n",
    "import astra\n",
    "import numpy as np\n",
    "\n",
    "vol_geom = astra.create_vol_geom(256, 256)\n",
    "proj_geom = astra.create_proj_geom('parallel', 1.0, 384, np.linspace(0,np.pi,180,False))\n",
    "\n",
    "# For CPU-based algorithms, a \"projector\" object specifies the projection\n",
    "# model used. In this case, we use the \"strip\" model.\n",
    "proj_id = astra.create_projector('strip', proj_geom, vol_geom)\n",
    "\n",
    "# Create a sinogram from a phantom\n",
    "import scipy.io\n",
    "P = scipy.io.loadmat(phantom_input)['phantom256']\n",
    "sinogram_id, sinogram = astra.create_sino(P, proj_id)\n",
    "\n",
    "from matplotlib import pyplot as pylab\n",
    "\n",
    "# Create a data object for the reconstruction\n",
    "rec_id = astra.data2d.create('-vol', vol_geom)\n",
    "\n",
    "# Set up the parameters for a reconstruction algorithm using the CPU\n",
    "# The main difference with the configuration of a GPU algorithm is the\n",
    "# extra ProjectorId setting.\n",
    "cfg = astra.astra_dict('FBP')\n",
    "cfg['ReconstructionDataId'] = rec_id\n",
    "cfg['ProjectionDataId'] = sinogram_id\n",
    "cfg['ProjectorId'] = proj_id\n",
    "\n",
    "# Available algorithms:\n",
    "# ART, SART, SIRT, CGLS, FBP\n",
    "\n",
    "# Create the algorithm object from the configuration structure\n",
    "alg_id = astra.algorithm.create(cfg)\n",
    "\n",
    "# Run 20 iterations of the algorithm\n",
    "# This will have a runtime in the order of 10 seconds.\n",
    "astra.algorithm.run(alg_id, 20)\n",
    "\n",
    "# Get the result\n",
    "rec = astra.data2d.get(rec_id)\n",
    "pylab.imsave('phantom_result_fbp.tiff', rec)\n",
    "\n",
    "# Clean up.\n",
    "astra.algorithm.delete(alg_id)\n",
    "astra.data2d.delete(rec_id)\n",
    "astra.data2d.delete(sinogram_id)\n",
    "astra.projector.delete(proj_id)\n",
    "\n"
   ]
  }
 ],
 "metadata": {
  "kernelspec": {
   "display_name": "Python 3",
   "language": "python",
   "name": "astra"
  },
  "language_info": {
   "codemirror_mode": {
    "name": "ipython",
    "version": 3
   },
   "file_extension": ".py",
   "mimetype": "text/x-python",
   "name": "python",
   "nbconvert_exporter": "python",
   "pygments_lexer": "ipython3",
   "version": "3.6.7"
  }
 },
 "nbformat": 4,
 "nbformat_minor": 2
}
