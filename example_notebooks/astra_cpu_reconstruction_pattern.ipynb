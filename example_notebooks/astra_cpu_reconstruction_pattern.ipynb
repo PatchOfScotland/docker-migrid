{
 "cells": [
  {
   "cell_type": "code",
   "execution_count": null,
   "metadata": {},
   "outputs": [],
   "source": [
    "cpu_rec_pat = Pattern('cpu_reconstruction_pattern')\n",
    "cpu_rec_pat.add_single_input('phantom.mat', 'data/.*\\\\.mat', 'data_output/*.mat')\n",
    "cpu_rec_pat.add_recipe('astra_cpu_reconstruction')"
   ]
  }
 ],
 "metadata": {
  "kernelspec": {
   "display_name": "Python 3",
   "language": "python",
   "name": "python3"
  },
  "language_info": {
   "codemirror_mode": {
    "name": "ipython",
    "version": 3
   },
   "file_extension": ".py",
   "mimetype": "text/x-python",
   "name": "python",
   "nbconvert_exporter": "python",
   "pygments_lexer": "ipython3",
   "version": "3.6.7"
  }
 },
 "nbformat": 4,
 "nbformat_minor": 2
}
