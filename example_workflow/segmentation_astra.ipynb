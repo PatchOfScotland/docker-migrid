{
 "cells": [
  {
   "cell_type": "code",
   "execution_count": null,
   "metadata": {},
   "outputs": [],
   "source": [
    "import imageio\n",
    "import numpy as np\n",
    "from matplotlib import pyplot\n",
    "\n",
    "# Read reconstructed image\n",
    "rec = imageio.imread('phantom_reconstructed.tiff')\n",
    "\n",
    "pyplot.figure(1)\n",
    "pyplot.imshow(rec)\n",
    "\n",
    "# Initial threshold segmentation\n",
    "threshold = np.max(rec) - np.std(rec) * 3\n",
    "copy_rec = np.copy(rec)\n",
    "copy_rec[copy_rec < threshold] = 0.0\n",
    "\n",
    "# second threshold segmentation\n",
    "threshold = np.mean(copy_rec[copy_rec > 0]) - np.std(copy_rec)\n",
    "copy_rec[copy_rec < threshold] = 0.0\n",
    "\n",
    "pyplot.figure(2)\n",
    "pyplot.imshow(copy_rec)\n",
    "\n",
    "# Save segemented image\n",
    "imageio.imsave('phantom_segmented.tiff', copy_rec)"
   ]
  }
 ],
 "metadata": {
  "kernelspec": {
   "display_name": "Python 3",
   "language": "python",
   "name": "python3"
  },
  "language_info": {
   "codemirror_mode": {
    "name": "ipython",
    "version": 3
   },
   "file_extension": ".py",
   "mimetype": "text/x-python",
   "name": "python",
   "nbconvert_exporter": "python",
   "pygments_lexer": "ipython3",
   "version": "3.6.5"
  }
 },
 "nbformat": 4,
 "nbformat_minor": 2
}
