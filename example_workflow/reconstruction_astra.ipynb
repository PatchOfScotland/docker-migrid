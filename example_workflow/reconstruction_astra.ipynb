{
 "cells": [
  {
   "cell_type": "code",
   "execution_count": null,
   "metadata": {},
   "outputs": [],
   "source": [
    "import astra\n",
    "import scipy\n",
    "import imageio\n",
    "import numpy as np\n",
    "from matplotlib import pyplot\n",
    "\n",
    "vol_geom = astra.create_vol_geom(256, 256)\n",
    "proj_geom = astra.create_proj_geom(\n",
    "    'parallel', 1.0, 384, np.linspace(0, np.pi, 180, False))\n",
    "\n",
    "# For CPU-based algorithms, a \"projector\" object specifies the projection\n",
    "# model used. In this case, we use the \"strip\" model.\n",
    "proj_id = astra.create_projector('strip', proj_geom, vol_geom)\n",
    "\n",
    "# Crete a singogram from a phantom\n",
    "P = scipy.io.loadmat('phantom.mat')['phantom256']\n",
    "sinogram_id, sinogram = astra.create_sino(P, proj_id)\n",
    "\n",
    "pyplot.figure(1)\n",
    "pyplot.imshow(sinogram)\n",
    "\n",
    "# Create a data object for the reconstruction\n",
    "rec_id = astra.data2d.create('-vol', vol_geom)\n",
    "\n",
    "# Set up the parameters for a reconstruction algorithm using the CPU\n",
    "# The main difference with the configuration of a GPU algorithm is the\n",
    "# extra ProjectorId setting.\n",
    "cfg = astra.astra_dict('SIRT')\n",
    "cfg['ReconstructionDataId'] = rec_id\n",
    "cfg['ProjectionDataId'] = sinogram_id\n",
    "cfg['ProjectorId'] = proj_id\n",
    "\n",
    "# Create the algorithm object from the configuration structure\n",
    "alg_id = astra.algorithm.create(cfg)\n",
    "\n",
    "# Run 20 iterations of the algorithm\n",
    "# This will have a runtime in the order of 10 seconds.\n",
    "astra.algorithm.run(alg_id, 20)\n",
    "\n",
    "# Get the result\n",
    "rec = astra.data2d.get(rec_id)\n",
    "pyplot.figure(2)\n",
    "pyplot.imshow(rec)\n",
    "\n",
    "# Save reconstructed image\n",
    "imageio.imwrite('phantom_reconstructed.tiff', rec)\n",
    "\n",
    "# Clean up.\n",
    "astra.algorithm.delete(alg_id)\n",
    "astra.data2d.delete(rec_id)\n",
    "astra.data2d.delete(sinogram_id)\n",
    "astra.projector.delete(proj_id)"
   ]
  }
 ],
 "metadata": {
  "kernelspec": {
   "display_name": "Python 3",
   "language": "python",
   "name": "python3"
  },
  "language_info": {
   "codemirror_mode": {
    "name": "ipython",
    "version": 3
   },
   "file_extension": ".py",
   "mimetype": "text/x-python",
   "name": "python",
   "nbconvert_exporter": "python",
   "pygments_lexer": "ipython3",
   "version": "3.6.5"
  }
 },
 "nbformat": 4,
 "nbformat_minor": 2
}
