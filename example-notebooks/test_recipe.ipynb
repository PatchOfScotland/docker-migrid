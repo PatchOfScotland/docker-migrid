{
 "cells": [
  {
   "cell_type": "code",
   "execution_count": null,
   "metadata": {},
   "outputs": [],
   "source": [
    "import time\n",
    "input_file = open(self.input_file, 'r')\n",
    "data = input_file.read()\n",
    "input_file.close()\n",
    "data += 'processed by ' + self.name + '\\\\n'\n",
    "time.sleep(processing_time)\n",
    "output_file = open(self.output_file, 'w')\n",
    "output_file.write(data)\n",
    "output_file.close()"
   ]
  }
 ],
 "metadata": {
  "kernelspec": {
   "display_name": "Python 3",
   "language": "python",
   "name": "python3"
  },
  "language_info": {
   "codemirror_mode": {
    "name": "ipython",
    "version": 3
   },
   "file_extension": ".py",
   "mimetype": "text/x-python",
   "name": "python",
   "nbconvert_exporter": "python",
   "pygments_lexer": "ipython3",
   "version": "3.6.6"
  }
 },
 "nbformat": 4,
 "nbformat_minor": 2
}
