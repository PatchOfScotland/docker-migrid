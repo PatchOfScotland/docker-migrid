{
 "cells": [
  {
   "cell_type": "code",
   "execution_count": 1,
   "metadata": {
    "tags": [
     "parameters"
    ]
   },
   "outputs": [],
   "source": [
    "input_file = 'phantom.mat'\n",
    "output_file = 'phantom_results'"
   ]
  },
  {
   "cell_type": "code",
   "execution_count": 2,
   "metadata": {
    "tags": [
     "recipe"
    ]
   },
   "outputs": [
    {
     "ename": "ModuleNotFoundError",
     "evalue": "No module named 'astra'",
     "output_type": "error",
     "traceback": [
      "\u001b[0;31m---------------------------------------------------------------------------\u001b[0m",
      "\u001b[0;31mModuleNotFoundError\u001b[0m                       Traceback (most recent call last)",
      "\u001b[0;32m<ipython-input-2-c701de853310>\u001b[0m in \u001b[0;36m<module>\u001b[0;34m\u001b[0m\n\u001b[0;32m----> 1\u001b[0;31m \u001b[0;32mimport\u001b[0m \u001b[0mastra\u001b[0m\u001b[0;34m\u001b[0m\u001b[0;34m\u001b[0m\u001b[0m\n\u001b[0m\u001b[1;32m      2\u001b[0m \u001b[0;32mfrom\u001b[0m \u001b[0mscipy\u001b[0m\u001b[0;34m.\u001b[0m\u001b[0mio\u001b[0m \u001b[0;32mimport\u001b[0m \u001b[0mloadmat\u001b[0m\u001b[0;34m\u001b[0m\u001b[0;34m\u001b[0m\u001b[0m\n\u001b[1;32m      3\u001b[0m \u001b[0;34m\u001b[0m\u001b[0m\n\u001b[1;32m      4\u001b[0m \u001b[0mA\u001b[0m \u001b[0;34m=\u001b[0m \u001b[0mloadmat\u001b[0m\u001b[0;34m(\u001b[0m\u001b[0mfile\u001b[0m\u001b[0;34m)\u001b[0m\u001b[0;34m[\u001b[0m\u001b[0;34m'phantom256'\u001b[0m\u001b[0;34m]\u001b[0m\u001b[0;34m\u001b[0m\u001b[0;34m\u001b[0m\u001b[0m\n\u001b[1;32m      5\u001b[0m \u001b[0mvol_geom\u001b[0m \u001b[0;34m=\u001b[0m \u001b[0mastra\u001b[0m\u001b[0;34m.\u001b[0m\u001b[0mcreate_vol_geom\u001b[0m\u001b[0;34m(\u001b[0m\u001b[0;36m256\u001b[0m\u001b[0;34m,\u001b[0m \u001b[0;36m256\u001b[0m\u001b[0;34m)\u001b[0m\u001b[0;34m\u001b[0m\u001b[0;34m\u001b[0m\u001b[0m\n",
      "\u001b[0;31mModuleNotFoundError\u001b[0m: No module named 'astra'"
     ]
    }
   ],
   "source": [
    "import astra\n",
    "from scipy.io import loadmat\n",
    "\n",
    "A = loadmat(input_file)['phantom256']\n",
    "vol_geom = astra.create_vol_geom(256, 256)\n",
    "proj_geom = astra.create_proj_geom('parallel', 1.0, 384, np.linspace(0,np.pi,180,False))\n",
    "\n",
    "# Create volumes\n",
    "# initialized to zero\n",
    "v0 = astra.data2d.create('-vol', vol_geom)\n",
    "\n",
    "# initialized to 3.0\n",
    "v1 = astra.data2d.create('-vol', vol_geom, 3.0)\n",
    "\n",
    "# initialized to a matrix. A may be a single, double or logical (0/1) array.\n",
    "v2 = astra.data2d.create('-vol', vol_geom, A)\n",
    "\n",
    "# Projection data\n",
    "s0 = astra.data2d.create('-sino', proj_geom)\n",
    "# Initialization to a scalar or a matrix also works, exactly as with a volume.\n",
    "\n",
    "# Update data\n",
    "# set to zero\n",
    "astra.data2d.store(v0, 0)\n",
    "\n",
    "# set to a matrix\n",
    "astra.data2d.store(v2, A)\n",
    "\n",
    "# Retrieve data\n",
    "R = astra.data2d.get(v2)\n",
    "\n",
    "np.save(output_file, R)\n",
    "\n",
    "# Free memory\n",
    "astra.data2d.delete(v0)\n",
    "astra.data2d.delete(v1)\n",
    "astra.data2d.delete(v2)\n",
    "astra.data2d.delete(s0)"
   ]
  },
  {
   "cell_type": "code",
   "execution_count": null,
   "metadata": {},
   "outputs": [],
   "source": []
  },
  {
   "cell_type": "code",
   "execution_count": null,
   "metadata": {},
   "outputs": [],
   "source": []
  }
 ],
 "metadata": {
  "kernelspec": {
   "display_name": "Python 3",
   "language": "python",
   "name": "python3"
  },
  "language_info": {
   "codemirror_mode": {
    "name": "ipython",
    "version": 3
   },
   "file_extension": ".py",
   "mimetype": "text/x-python",
   "name": "python",
   "nbconvert_exporter": "python",
   "pygments_lexer": "ipython3",
   "version": "3.6.7"
  }
 },
 "nbformat": 4,
 "nbformat_minor": 2
}
