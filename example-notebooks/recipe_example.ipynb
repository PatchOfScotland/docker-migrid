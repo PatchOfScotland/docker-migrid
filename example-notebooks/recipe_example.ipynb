{
 "cells": [
  {
   "cell_type": "code",
   "execution_count": null,
   "metadata": {
    "slideshow": {
     "slide_type": "-"
    },
    "tags": [
     "recipe"
    ]
   },
   "outputs": [],
   "source": [
    "@recipe\n",
    "recipe = 'refcipe_1'\n",
    "\n",
    "@input\n",
    "input = 'filenmsme'\n",
    "\n",
    "@output\n",
    "output ´= ''\n"
   ]
  },
  {
   "cell_type": "code",
   "execution_count": null,
   "metadata": {},
   "outputs": [],
   "source": [
    "# # -----------------------------------------------------------------------\n",
    "# # Copyright: 2010-2018, imec Vision Lab, University of Antwerp\n",
    "# #            2013-2018, CWI, Amsterdam\n",
    "# #\n",
    "# # Contact: astra@astra-toolbox.com\n",
    "# # Website: http://www.astra-toolbox.com/\n",
    "# #\n",
    "# # This file is part of the ASTRA Toolbox.\n",
    "# #\n",
    "# #\n",
    "# # The ASTRA Toolbox is free software: you can redistribute it and/or modify\n",
    "# # it under the terms of the GNU General Public License as published by\n",
    "# # the Free Software Foundation, either version 3 of the License, or\n",
    "# # (at your option) any later version.\n",
    "# #\n",
    "# # The ASTRA Toolbox is distributed in the hope that it will be useful,\n",
    "# # but WITHOUT ANY WARRANTY; without even the implied warranty of\n",
    "# # MERCHANTABILITY or FITNESS FOR A PARTICULAR PURPOSE. See the\n",
    "# # GNU General Public License for more details.\n",
    "# #\n",
    "# # You should have received a copy of the GNU General Public License\n",
    "# # along with the ASTRA Toolbox. If not, see <http://www.gnu.org/licenses/>.\n",
    "# #\n",
    "# # -----------------------------------------------------------------------\n",
    "\n",
    "# import os\n",
    "# import astra\n",
    "# import numpy as np\n",
    "\n",
    "# vol_geom = astra.create_vol_geom(256, 256)\n",
    "\n",
    "# proj_geom = astra.create_proj_geom('parallel', 1.0, 384, np.linspace(0,np.pi,180,False))\n",
    "\n",
    "\n",
    "# # Create volumes\n",
    "\n",
    "# # initialized to zero\n",
    "# v0 = astra.data2d.create('-vol', vol_geom)\n",
    "\n",
    "# # initialized to 3.0\n",
    "# v1 = astra.data2d.create('-vol', vol_geom, 3.0)\n",
    "\n",
    "# # initialized to a matrix. A may be a single, double or logical (0/1) array.\n",
    "# import scipy.io\n",
    "# A = scipy.io.loadmat('phantom.mat')['phantom256']\n",
    "# v2 = astra.data2d.create('-vol', vol_geom, A)\n",
    "\n",
    "\n",
    "# # Projection data\n",
    "# s0 = astra.data2d.create('-sino', proj_geom)\n",
    "# # Initialization to a scalar or a matrix also works, exactly as with a volume.\n",
    "\n",
    "# # Update data\n",
    "# # set to zero\n",
    "# astra.data2d.store(v0, 0)\n",
    "\n",
    "# # set to a matrix\n",
    "# astra.data2d.store(v2, A)\n",
    "\n",
    "# # Retrieve data\n",
    "# R = astra.data2d.get(v2)\n",
    "\n",
    "# np.save('output_filename', R)\n",
    "\n",
    "# # Free memory\n",
    "# astra.data2d.delete(v0)\n",
    "# astra.data2d.delete(v1)\n",
    "# astra.data2d.delete(v2)\n",
    "# astra.data2d.delete(s0)\n"
   ]
  }
 ],
 "metadata": {
  "kernelspec": {
   "display_name": "Python 3",
   "language": "python",
   "name": "python3"
  },
  "language_info": {
   "codemirror_mode": {
    "name": "ipython",
    "version": 3
   },
   "file_extension": ".py",
   "mimetype": "text/x-python",
   "name": "python",
   "nbconvert_exporter": "python",
   "pygments_lexer": "ipython3",
   "version": "3.6.6"
  }
 },
 "nbformat": 4,
 "nbformat_minor": 2
}
