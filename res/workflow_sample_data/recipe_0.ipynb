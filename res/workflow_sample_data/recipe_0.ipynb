{
 "cells": [
  {
   "cell_type": "code",
   "execution_count": 14,
   "metadata": {
    "tags": [
     "parameters"
    ]
   },
   "outputs": [],
   "source": [
    "hdf5_input = 'data_1.hdf5'\n",
    "pattern_name = 'NO_PATTERN'"
   ]
  },
  {
   "cell_type": "code",
   "execution_count": 15,
   "metadata": {},
   "outputs": [],
   "source": [
    "def recursive_printout(file, top_key, path, level):\n",
    "    attributes_string = ''\n",
    "    try:\n",
    "        attributes = file[path].attrs.items()\n",
    "        for attribute in attributes:\n",
    "            if attribute[1] != \"None\":\n",
    "                attributes_string = attribute\n",
    "    except:\n",
    "        pass\n",
    "    lines = '--' * level\n",
    "    print(\"%s> %s (%s)\" %(lines, top_key, attributes_string))\n",
    "    try:\n",
    "        for key in file[path].keys():\n",
    "            recursive_printout(file, key, top_key+\"/\"+key, level + 1)\n",
    "    except:\n",
    "        pass"
   ]
  },
  {
   "cell_type": "code",
   "execution_count": 16,
   "metadata": {},
   "outputs": [
    {
     "name": "stdout",
     "output_type": "stream",
     "text": [
      "Processing file data_1.hdf5.\n",
      "> / (('NO_PATTERN', 'some note'))\n",
      "--> copy ()\n",
      "----> my_data_set ()\n",
      "----> subgroup ()\n",
      "------> my_sub_data_set ()\n",
      "--> my_data_set ()\n",
      "--> subgroup ()\n",
      "----> my_sub_data_set ()\n"
     ]
    }
   ],
   "source": [
    "import h5py\n",
    "\n",
    "with h5py.File(hdf5_input, 'a') as h5_file:\n",
    "    print('Processing file %s.' % hdf5_input)\n",
    "    h5_file.attrs[pattern_name] = 'some note'\n",
    "    recursive_printout(h5_file, \"/\", \"/\", 0)\n",
    "    "
   ]
  },
  {
   "cell_type": "code",
   "execution_count": null,
   "metadata": {},
   "outputs": [],
   "source": []
  }
 ],
 "metadata": {
  "celltoolbar": "Tags",
  "kernelspec": {
   "display_name": "Python 3",
   "language": "python",
   "name": "python3"
  },
  "language_info": {
   "codemirror_mode": {
    "name": "ipython",
    "version": 3
   },
   "file_extension": ".py",
   "mimetype": "text/x-python",
   "name": "python",
   "nbconvert_exporter": "python",
   "pygments_lexer": "ipython3",
   "version": "3.7.1"
  }
 },
 "nbformat": 4,
 "nbformat_minor": 2
}
