{
 "cells": [
  {
   "cell_type": "code",
   "execution_count": 12,
   "metadata": {
    "tags": [
     "parameters"
    ]
   },
   "outputs": [],
   "source": [
    "hdf5_input = 'data_1.hdf5'\n",
    "pattern_name = 'NO_PATTERN'\n",
    "json_output = 'hard_coded_output.json'"
   ]
  },
  {
   "cell_type": "code",
   "execution_count": 13,
   "metadata": {},
   "outputs": [
    {
     "name": "stdout",
     "output_type": "stream",
     "text": [
      "Processing file data_1.hdf5.\n"
     ]l
    }
   ],
   "source": [
    "import h5py\n",
    "import json\n",
    "\n",
    "all_keys = []\n",
    "json_dict = {}\n",
    "\n",
    "with h5py.File(hdf5_input, 'a') as h5_file:\n",
    "    print('Processing file %s.' % hdf5_input)  \n",
    "    h5_file.visit(all_keys.append)\n",
    "    \n",
    "    for key in all_keys:\n",
    "        json_dict[key] = str(h5_file[key])\n",
    "\n",
    "with open (json_output, 'w') as json_file:\n",
    "    json_file.write(json.dumps(json_dict))"
   ]
  },
  {
   "cell_type": "code",
   "execution_count": null,
   "metadata": {},
   "outputs": [],
   "source": []
  }
 ],
 "metadata": {
  "celltoolbar": "Tags",
  "kernelspec": {
   "display_name": "Python 3",
   "language": "python",
   "name": "python3"
  },
  "language_info": {
   "codemirror_mode": {
    "name": "ipython",
    "version": 3
   },
   "file_extension": ".py",
   "mimetype": "text/x-python",
   "name": "python",
   "nbconvert_exporter": "python",
   "pygments_lexer": "ipython3",
   "version": "3.7.1"
  }
 },
 "nbformat": 4,
 "nbformat_minor": 2
}
