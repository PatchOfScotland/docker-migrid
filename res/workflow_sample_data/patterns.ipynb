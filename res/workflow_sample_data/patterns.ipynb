{
 "cells": [
  {
   "cell_type": "code",
   "execution_count": 1,
   "metadata": {},
   "outputs": [],
   "source": [
    "pattern0 = Pattern('pattern_0')\n",
    "pattern0.add_single_input('hdf5_input', 'initial_data/.*\\\\.hdf5', 'pattern_0_output/*.hdf5')\n",
    "pattern0.add_variable('pattern_name', 'pattern_0')\n",
    "pattern0.add_recipe('recipe_0')"
   ]
  },
  {
   "cell_type": "code",
   "execution_count": null,
   "metadata": {},
   "outputs": [],
   "source": [
    "pattern1 = Pattern('pattern_1')\n",
    "pattern1.add_single_input('hdf5_input', 'pattern_0_output/.*\\\\.hdf5', 'pattern_1_output/*.hdf5')\n",
    "pattern1.return_notebook('pattern_1_output/*.ipynb')\n",
    "pattern1.add_variable('pattern_name', 'pattern_1')\n",
    "pattern1.add_recipe('recipe_0')"
   ]
  },
  {
   "cell_type": "code",
   "execution_count": null,
   "metadata": {},
   "outputs": [],
   "source": [
    "pattern2 = Pattern('pattern_2')\n",
    "pattern2.add_gathering_input('hdf5_input', 'pattern_0_output/data_*.hdf5', 1, 3)\n",
    "pattern2.add_output('json_output', 'pattern_2_output/gathered_input.json')\n",
    "pattern2.add_variable('pattern_name', 'pattern_2')\n",
    "pattern2.add_recipe('recipe_2')"
   ]
  },
  {
   "cell_type": "code",
   "execution_count": null,
   "metadata": {},
   "outputs": [],
   "source": [
    "pattern3 = Pattern('pattern_3')\n",
    "pattern3.add_single_input('hdf5_input', 'pattern_1_output/.*\\\\.hdf5', 'pattern_3_output_h5/*.hdf5')\n",
    "pattern3.return_notebook('pattern_3_output_nb/*.ipynb')\n",
    "pattern3.add_variable('pattern_name', 'pattern_3')\n",
    "pattern3.add_recipe('recipe_0')"
   ]
  }
 ],
 "metadata": {
  "kernelspec": {
   "display_name": "Python 3",
   "language": "python",
   "name": "python3"
  },
  "language_info": {
   "codemirror_mode": {
    "name": "ipython",
    "version": 3
   },
   "file_extension": ".py",
   "mimetype": "text/x-python",
   "name": "python",
   "nbconvert_exporter": "python",
   "pygments_lexer": "ipython3",
   "version": "3.7.1"
  }
 },
 "nbformat": 4,
 "nbformat_minor": 2
}
