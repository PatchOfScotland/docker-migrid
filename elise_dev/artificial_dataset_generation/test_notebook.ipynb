{
 "cells": [
  {
   "cell_type": "code",
   "execution_count": null,
   "outputs": [],
   "source": [
    "import os\n",
    "\n",
    "\n",
    "def workflow_input_path():\n",
    "\treturn os.getenv('WORKFLOW_INPUT_PATH', '')\n",
    "\n",
    "\n",
    "def workflow_output_path():\n",
    "\treturn os.path.os.getenv('WORKFLOW_OUTPUT_PATH', '')\n",
    "\n",
    "\n",
    "def workflow_input_file():\n",
    "\treturn os.getenv('WORKFLOW_INPUT_FILE', '')\n",
    "\n",
    "\n",
    "with open(workflow_input_file(), 'r') as file_:\n",
    "\tcontent = file_.read()\n",
    "\twith open(os.path.join(workflow_output_path(), 'test_output.npy'), 'w') as ofile_:\n",
    "\t\tofile_.write(content)\n"
   ],
   "metadata": {
    "collapsed": false,
    "pycharm": {
     "name": "#%%\n"
    }
   }
  }
 ],
 "metadata": {
  "kernelspec": {
   "display_name": "Python 3",
   "language": "python",
   "name": "python3"
  },
  "language_info": {
   "codemirror_mode": {
    "name": "ipython",
    "version": 3
   },
   "file_extension": ".py",
   "mimetype": "text/x-python",
   "name": "python",
   "nbconvert_exporter": "python",
   "pygments_lexer": "ipython3",
   "version": "3.7.3"
  },
  "pycharm": {
   "stem_cell": {
    "cell_type": "raw",
    "source": [],
    "metadata": {
     "collapsed": false
    }
   }
  }
 },
 "nbformat": 4,
 "nbformat_minor": 2
}