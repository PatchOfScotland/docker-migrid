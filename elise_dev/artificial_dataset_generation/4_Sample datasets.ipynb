{
 "cells": [
  {
   "cell_type": "code",
   "execution_count": 1,
   "metadata": {},
   "outputs": [],
   "source": [
    "import numpy as np\n",
    "import scipy.special\n",
    "import os\n",
    "\n",
    "#LOCAL imports\n",
    "from arcmodelling_IDMC import artificial_data_gen as adgen\n",
    "from arcmodelling_IDMC import tools\n",
    "from arcmodelling_IDMC import model_functions as mf"
   ]
  },
  {
   "cell_type": "markdown",
   "metadata": {},
   "source": [
    "# 4. Sample datasets"
   ]
  },
  {
   "cell_type": "markdown",
   "metadata": {},
   "source": [
    "## Default parameters "
   ]
  },
  {
   "cell_type": "code",
   "execution_count": 8,
   "metadata": {},
   "outputs": [],
   "source": [
    "#(from earlier)\n",
    "N=100\n",
    "dataset_path='N'+str(N)\n",
    "datasets_path = os.path.join(dataset_path,'datasets', '')\n",
    "\n",
    "#NEW parameters\n",
    "\n",
    "weights_0 = [0.2, 0.3, 0.6, 0.1, 0.1, 0.1]\n",
    "#normalizing to sum up to 1\n",
    "weights = weights_0/np.sum(weights_0)\n",
    "\n",
    "sample_size=400000\n",
    "\n",
    "samples_path=os.path.join(dataset_path,'sampled_datasets', '')\n"
   ]
  },
  {
   "cell_type": "code",
   "execution_count": 12,
   "metadata": {},
   "outputs": [],
   "source": [
    "\n",
    "if not os.path.exists(samples_path):\n",
    "    os.makedirs(samples_path)"
   ]
  },
  {
   "cell_type": "markdown",
   "metadata": {},
   "source": [
    "## Load data"
   ]
  },
  {
   "cell_type": "code",
   "execution_count": 9,
   "metadata": {},
   "outputs": [
    {
     "name": "stdout",
     "output_type": "stream",
     "text": [
      "Number of samples from each dataset: \n",
      " [57142, 85714, 171428, 28571, 28571, 28571]\n",
      "Sampling  0 ...\n",
      "\n",
      "Sampling  1 ...\n",
      "\n",
      "Sampling  2 ...\n",
      "\n",
      "Sampling  01 ...\n",
      "\n",
      "Sampling  02 ...\n",
      "\n",
      "Sampling  12 ...\n",
      "\n"
     ]
    }
   ],
   "source": [
    "dataset_intensity, dataset_gradient = adgen.sample_dataset(datasets_path, sample_size, weights)"
   ]
  },
  {
   "cell_type": "code",
   "execution_count": 10,
   "metadata": {},
   "outputs": [
    {
     "data": {
      "image/png": "[encoded data removed]",
      "text/plain": [
       "<Figure size 720x432 with 1 Axes>"
      ]
     },
     "metadata": {
      "needs_background": "light"
     },
     "output_type": "display_data"
    },
    {
     "data": {
      "image/png": "[encoded data removed]",
      "text/plain": [
       "<Figure size 720x432 with 1 Axes>"
      ]
     },
     "metadata": {
      "needs_background": "light"
     },
     "output_type": "display_data"
    }
   ],
   "source": [
    "tools.plot_hist(dataset_intensity)\n",
    "tools.plot_hist(dataset_gradient)"
   ]
  },
  {
   "cell_type": "markdown",
   "metadata": {},
   "source": [
    "## Save data"
   ]
  },
  {
   "cell_type": "code",
   "execution_count": 13,
   "metadata": {},
   "outputs": [],
   "source": [
    "np.save(os.path.join(samples_path, 'intensity_sample_size_'+str(sample_size)+'.npy'), dataset_intensity)\n",
    "np.save(os.path.join(samples_path, 'gradient_sample_size_'+str(sample_size)+'.npy'), dataset_gradient)"
   ]
  }
 ],
 "metadata": {
  "kernelspec": {
   "display_name": "Python 3",
   "language": "python",
   "name": "python3"
  },
  "language_info": {
   "codemirror_mode": {
    "name": "ipython",
    "version": 3
   },
   "file_extension": ".py",
   "mimetype": "text/x-python",
   "name": "python",
   "nbconvert_exporter": "python",
   "pygments_lexer": "ipython3",
   "version": "3.7.3"
  }
 },
 "nbformat": 4,
 "nbformat_minor": 2
}
