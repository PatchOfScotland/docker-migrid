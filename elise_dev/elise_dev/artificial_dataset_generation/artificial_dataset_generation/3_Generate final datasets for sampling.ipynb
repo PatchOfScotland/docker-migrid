{
 "cells": [
  {
   "cell_type": "code",
   "execution_count": 1,
   "metadata": {},
   "outputs": [],
   "source": [
    "import numpy as np\n",
    "import scipy.special\n",
    "import os\n",
    "\n",
    "#LOCAL imports\n",
    "from arcmodelling_IDMC import artificial_data_gen as adgen\n",
    "from arcmodelling_IDMC import tools\n",
    "from arcmodelling_IDMC import model_functions as mf"
   ]
  },
  {
   "cell_type": "markdown",
   "metadata": {},
   "source": [
    "# 3. Generate final datasets for sampling"
   ]
  },
  {
   "cell_type": "markdown",
   "metadata": {},
   "source": [
    "## Default parameters "
   ]
  },
  {
   "cell_type": "code",
   "execution_count": 3,
   "metadata": {},
   "outputs": [],
   "source": [
    "#parameters defined earlier\n",
    "N=100\n",
    "\n",
    "dataset_path='N'+str(N)\n",
    "Ivol_noiseless_path=os.path.join(dataset_path, 'Ivol_01_noiseless_for_masking.npy')\n",
    "centerdist_vol_path=os.path.join(dataset_path, 'centerdist_vol.npy')\n",
    "volumes_path=os.path.join(dataset_path,'volumes', '')\n",
    "datasets_path = os.path.join(dataset_path,'datasets', '')\n",
    "\n",
    "#new parameters\n",
    "wb = 4\n",
    "\n",
    "sigma_n = 500.\n",
    "I = [26000., 31000., 42000.]\n",
    "sigma_b=1.26"
   ]
  },
  {
   "cell_type": "code",
   "execution_count": 4,
   "metadata": {},
   "outputs": [],
   "source": [
    "\n",
    "if not os.path.exists(volumes_path):\n",
    "    os.makedirs(volumes_path)\n",
    "\n",
    "if not os.path.exists(datasets_path):\n",
    "    os.makedirs(datasets_path)\n"
   ]
  },
  {
   "cell_type": "markdown",
   "metadata": {},
   "source": [
    "## Load data"
   ]
  },
  {
   "cell_type": "code",
   "execution_count": 5,
   "metadata": {},
   "outputs": [],
   "source": [
    "Ivol_noiseless=np.load(Ivol_noiseless_path)\n",
    "centerdist_vol=np.load(centerdist_vol_path)\n",
    "params={'I': I,\n",
    "       'sigma_b': sigma_b,\n",
    "       'sigma_n': sigma_n}"
   ]
  },
  {
   "cell_type": "markdown",
   "metadata": {},
   "source": [
    "## Generate noisy intensity and gradient data ( 6 volumes)"
   ]
  },
  {
   "cell_type": "code",
   "execution_count": 6,
   "metadata": {},
   "outputs": [
    {
     "name": "stdout",
     "output_type": "stream",
     "text": [
      "Volume generated, R=  42.96\n",
      "Volume generated, R=  42.96\n",
      "Volume generated, R=  42.96\n",
      "Volume generated, R=  42.96\n",
      "Volume generated, R=  42.96\n",
      "Volume generated, R=  42.96\n"
     ]
    }
   ],
   "source": [
    "#create all 6 types of volumes (to get symmetric interface contributions)\n",
    "adgen.generate_all_Ivols(centerdist_vol, params, volumes_path)"
   ]
  },
  {
   "cell_type": "markdown",
   "metadata": {},
   "source": [
    "## Generate masks"
   ]
  },
  {
   "cell_type": "code",
   "execution_count": 8,
   "metadata": {},
   "outputs": [],
   "source": [
    "interface_mask, interior_mask, exterior_mask = adgen.get_masks(Ivol_noiseless, params, wb)\n",
    "masks=[interface_mask, interior_mask, exterior_mask]"
   ]
  },
  {
   "cell_type": "code",
   "execution_count": 9,
   "metadata": {},
   "outputs": [
    {
     "data": {
      "image/png": "[encoded data removed]",
      "text/plain": [
       "<Figure size 1080x360 with 3 Axes>"
      ]
     },
     "metadata": {
      "needs_background": "light"
     },
     "output_type": "display_data"
    }
   ],
   "source": [
    "tools.plot_center_slices(interface_mask)"
   ]
  },
  {
   "cell_type": "markdown",
   "metadata": {},
   "source": [
    "## Mask, combine and save datasets\n",
    "\n",
    "All 6 volumes combined to get symmetric volume fractions"
   ]
  },
  {
   "cell_type": "code",
   "execution_count": 10,
   "metadata": {},
   "outputs": [],
   "source": [
    "adgen.generate_all_datasets(params, volumes_path, datasets_path, masks)"
   ]
  },
  {
   "cell_type": "code",
   "execution_count": null,
   "metadata": {},
   "outputs": [],
   "source": []
  }
 ],
 "metadata": {
  "kernelspec": {
   "display_name": "Python 3",
   "language": "python",
   "name": "python3"
  },
  "language_info": {
   "codemirror_mode": {
    "name": "ipython",
    "version": 3
   },
   "file_extension": ".py",
   "mimetype": "text/x-python",
   "name": "python",
   "nbconvert_exporter": "python",
   "pygments_lexer": "ipython3",
   "version": "3.7.3"
  }
 },
 "nbformat": 4,
 "nbformat_minor": 2
}
